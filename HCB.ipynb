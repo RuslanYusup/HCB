{
 "cells": [
  {
   "cell_type": "markdown",
   "source": [
    "# Построение скоринговой модели бинарной классифкации по данным Home credit bank"
   ],
   "metadata": {
    "collapsed": false
   }
  },
  {
   "cell_type": "markdown",
   "source": [
    "План работы для анализа только данные application\n",
    "1. Смотрим на признаки в целом (типы, размер и пропущенные значения)\n",
    "2. Исследуем признаки по отдельности, заполняя пропуска и может быть создавая новые для количественных\n",
    "3. Исследуем признаки на коллиниарность, отмечая те, которые сильно зависимые, потом может сплющим, если поможет\n",
    "4. Кодируем категориальныех признаки (если надумаем не бустинг)\n",
    "5. Убираем таргет, загоняем в модель LGBM, фитим\n",
    "6. Проверяем на метриках\n",
    "7. Смотрим на самые важные"
   ],
   "metadata": {
    "collapsed": false
   }
  },
  {
   "cell_type": "markdown",
   "source": [
    "## 1 ЗАГРУЗКА И ОБЩИЙ АНАЛИЗ"
   ],
   "metadata": {
    "collapsed": false
   }
  },
  {
   "cell_type": "code",
   "execution_count": 1,
   "outputs": [],
   "source": [
    "# загрузим базовые библиотеки для начала\n",
    "import pandas as pd\n",
    "import numpy as np\n",
    "import seaborn as sns\n",
    "import matplotlib.pyplot as plt\n",
    "%matplotlib inline\n",
    "from lightgbm import LGBMClassifier\n",
    "from matplotlib import pyplot\n",
    "from sklearn.metrics import accuracy_score, roc_auc_score\n",
    "import shap"
   ],
   "metadata": {
    "collapsed": false
   }
  },
  {
   "cell_type": "code",
   "execution_count": null,
   "outputs": [],
   "source": [
    "df_train = pd.read_csv(r'C:\\Users\\user\\Desktop\\HCB\\application_train.csv')\n",
    "df_test = pd.read_csv(r'C:\\Users\\user\\Desktop\\HCB\\application_test.csv')"
   ],
   "metadata": {
    "collapsed": false
   }
  },
  {
   "cell_type": "markdown",
   "source": [
    "Смотрим на тренирочные данные"
   ],
   "metadata": {
    "collapsed": false
   }
  },
  {
   "cell_type": "code",
   "execution_count": null,
   "outputs": [],
   "source": [
    "df_train.head()"
   ],
   "metadata": {
    "collapsed": false
   }
  },
  {
   "cell_type": "code",
   "execution_count": null,
   "outputs": [],
   "source": [
    "df_train.info()"
   ],
   "metadata": {
    "collapsed": false
   }
  },
  {
   "cell_type": "code",
   "execution_count": null,
   "outputs": [],
   "source": [
    "df_train.describe()"
   ],
   "metadata": {
    "collapsed": false
   }
  },
  {
   "cell_type": "markdown",
   "source": [
    "122 признака, 16 категориальных, таргет включена, бинарная классификация, может быть логистичекая регрессия тоже подойдет?"
   ],
   "metadata": {
    "collapsed": false
   }
  },
  {
   "cell_type": "code",
   "execution_count": null,
   "outputs": [],
   "source": [
    "df_train.select_dtypes(include=[object]).apply(pd.Series.unique, axis = 0)"
   ],
   "metadata": {
    "collapsed": false
   }
  },
  {
   "cell_type": "markdown",
   "source": [
    "Категориальные поля можно будет закодировать, но это очень сильно замедлит модель, поэтому попробуем просто LGBM"
   ],
   "metadata": {
    "collapsed": false
   }
  },
  {
   "cell_type": "code",
   "execution_count": null,
   "outputs": [],
   "source": [
    "df_test.head()"
   ],
   "metadata": {
    "collapsed": false
   }
  },
  {
   "cell_type": "markdown",
   "source": [
    "в тестовой выборке 121 поле, без таргета"
   ],
   "metadata": {
    "collapsed": false
   }
  },
  {
   "cell_type": "markdown",
   "source": [
    "Посмотрим на пропуски в целом по дата фрейму"
   ],
   "metadata": {
    "collapsed": false
   }
  },
  {
   "cell_type": "code",
   "execution_count": null,
   "outputs": [],
   "source": [
    "sns.heatmap(df_train.isnull(), cmap = 'summer').set(title='Диаграмма 1 Пропущеные значения')"
   ],
   "metadata": {
    "collapsed": false
   }
  },
  {
   "cell_type": "code",
   "execution_count": null,
   "outputs": [],
   "source": [
    "miss_total = df_train.isnull().sum()"
   ],
   "metadata": {
    "collapsed": false
   }
  },
  {
   "cell_type": "code",
   "execution_count": null,
   "outputs": [],
   "source": [
    "miss_per = 100 * miss_total/len(df_train)\n",
    "miss_per.value_counts(ascending = False)"
   ],
   "metadata": {
    "collapsed": false
   }
  },
  {
   "cell_type": "markdown",
   "source": [
    "По многим полям порядка 70% незаполненных значений - мы ничего не будем пока делать, чтобы не внести дополнительный вес фичей, которые в реальности не имеют отношения к определению целевой метрики, единственное - надо посмотреть, совпадают ли пропуски в тесте с train - **но как?**"
   ],
   "metadata": {
    "collapsed": false
   }
  },
  {
   "cell_type": "markdown",
   "source": [
    "Посмотрим есть ли дисбаланс классов в таргете"
   ],
   "metadata": {
    "collapsed": false
   }
  },
  {
   "cell_type": "code",
   "execution_count": null,
   "outputs": [],
   "source": [
    "df_train['TARGET'].value_counts(normalize=True)"
   ],
   "metadata": {
    "collapsed": false
   }
  },
  {
   "cell_type": "code",
   "execution_count": null,
   "outputs": [],
   "source": [
    "sns.histplot(df_train['TARGET'], color = \"blue\").set(title = 'Диаграмма 2 Распределение таргета')"
   ],
   "metadata": {
    "collapsed": false
   }
  },
  {
   "cell_type": "markdown",
   "source": [
    "Очевидный дисбаланс, порядка 92% приходится на 0 - без дефолта, возвращают кредит. Дисбаланс не всегда есть хорошо - **как задел для повышения качества модели**"
   ],
   "metadata": {
    "collapsed": false
   }
  },
  {
   "cell_type": "markdown",
   "source": [
    "## 2. Исследование признаков"
   ],
   "metadata": {
    "collapsed": false
   }
  },
  {
   "cell_type": "markdown",
   "source": [
    "Полей очень много, все исследовать не получиться, нужно определить какие фичи наиболее всего зависят от таргета, и уже их непосредственно исследовать"
   ],
   "metadata": {
    "collapsed": false
   }
  },
  {
   "cell_type": "code",
   "execution_count": null,
   "outputs": [],
   "source": [
    "corr_features = df_train.corr()['TARGET'].sort_values()\n",
    "corr_features"
   ],
   "metadata": {
    "collapsed": false
   }
  },
  {
   "cell_type": "markdown",
   "source": [
    "Корреляции нам показывает на признаки, которые стоит анализировать прежде всего:\n",
    "Наибольшая положительная корреляция (возьмем первые 5):\n",
    "- DAYS_BIRTH возраст\n",
    "- REGION_RATING_CLIENT_W_CITY - рейтинг клиента в городе\n",
    "- REGION_RATING_CLIENT - рейтинг клиента в регионе\n",
    "- DAYS_LAST_PHONE_CHANGE - дата последнего смена телефона\n",
    "- DAYS_ID_PUBLISH - публикация ID (?)\n",
    "Наибольшая отрицательная корреляция (возьмем первые 3): непонятно пока что это такое\n",
    "- EXT_SOURCE_3\n",
    "- EXT_SOURCE_2\n",
    "- EXT_SOURCE_1"
   ],
   "metadata": {
    "collapsed": false
   }
  },
  {
   "cell_type": "markdown",
   "source": [
    "### 2.1 Исследуем признаки с отрицательной корреляцией"
   ],
   "metadata": {
    "collapsed": false
   }
  },
  {
   "cell_type": "code",
   "execution_count": null,
   "outputs": [],
   "source": [
    "plt.rcParams['figure.figsize'] = (20,6)\n",
    "df_train['EXT_SOURCE_3'].hist(bins=100)\n",
    "plt.title('Диаграмма Распределение признака EXT_SOURCE_3')"
   ],
   "metadata": {
    "collapsed": false
   }
  },
  {
   "cell_type": "code",
   "execution_count": null,
   "outputs": [],
   "source": [
    "plt.rcParams['figure.figsize'] = (20,6)\n",
    "df_train['EXT_SOURCE_2'].hist(bins=100)\n",
    "plt.title('Диаграмма Распределения признака EXT_SOURCE_2')"
   ],
   "metadata": {
    "collapsed": false
   }
  },
  {
   "cell_type": "code",
   "execution_count": null,
   "outputs": [],
   "source": [
    "plt.rcParams['figure.figsize'] = (20,6)\n",
    "df_train['EXT_SOURCE_1'].hist(bins=100)\n",
    "plt.title('Диаграмма Распределения признака EXT_SOURCE_2')"
   ],
   "metadata": {
    "collapsed": false
   }
  },
  {
   "cell_type": "markdown",
   "source": [
    "посмотрим в разрезе таргета"
   ],
   "metadata": {
    "collapsed": false
   }
  },
  {
   "cell_type": "code",
   "execution_count": null,
   "outputs": [],
   "source": [
    "plt.figure(figsize = (10, 12))\n",
    "for i, source in enumerate(['EXT_SOURCE_1', 'EXT_SOURCE_2', 'EXT_SOURCE_3']):\n",
    "\n",
    "    # создаем график для каждой фичи\n",
    "    plt.subplot(3, 1, i + 1)\n",
    "    # займы которые вернули\n",
    "    sns.kdeplot(df_train.loc[df_train['TARGET'] == 0, source], label = 'target == 0') # не вывел название таргета\n",
    "    # займы которые не вернули\n",
    "    sns.kdeplot(df_train.loc[df_train['TARGET'] == 1, source], label = 'target == 1')\n",
    "    # Названия графиков\n",
    "    plt.title('Distribution of %s by Target Value' % source)\n",
    "    plt.xlabel('%s' % source); plt.ylabel('Density');\n",
    "\n",
    "plt.tight_layout(h_pad = 3)"
   ],
   "metadata": {
    "collapsed": false
   }
  },
  {
   "cell_type": "markdown",
   "source": [
    "распределение абсолютно разное по классам, посмотрим на матрицу корреляции через heatmap"
   ],
   "metadata": {
    "collapsed": false
   }
  },
  {
   "cell_type": "code",
   "execution_count": null,
   "outputs": [],
   "source": [
    "sns.heatmap(df_train[['TARGET', 'EXT_SOURCE_1', 'EXT_SOURCE_2', 'EXT_SOURCE_3']].corr(), cmap=\"YlGnBu\", annot = True).set(title = 'матрица корреляции 1')"
   ],
   "metadata": {
    "collapsed": false
   }
  },
  {
   "cell_type": "markdown",
   "source": [
    "Ну вот видим, что этим признаки положительно коррелируют с собой, не критично конечно, но запомним это.\n",
    "Посмотрим как все выбранные признаки (8 ед) коррелируют между собой."
   ],
   "metadata": {
    "collapsed": false
   }
  },
  {
   "cell_type": "code",
   "execution_count": null,
   "outputs": [],
   "source": [
    "sns.heatmap(df_train[['TARGET', 'EXT_SOURCE_1', 'EXT_SOURCE_2', 'EXT_SOURCE_3', 'DAYS_BIRTH', 'REGION_RATING_CLIENT_W_CITY', 'REGION_RATING_CLIENT', 'DAYS_LAST_PHONE_CHANGE', 'DAYS_ID_PUBLISH']].corr(), cmap = \"Blues\", annot = True).set(title = 'матрица корреляции 1')"
   ],
   "metadata": {
    "collapsed": false
   }
  },
  {
   "cell_type": "markdown",
   "source": [
    "Так так,рейтинг региона очень сильно коррелирует с рейтингом клиента в городе, а DAYS_BIRTH имеют сильную обратную корреляцию с EXT_SOURCE_1, вот только что это такое EXT_SOURCE_1? в остальном все нормально вроде."
   ],
   "metadata": {
    "collapsed": false
   }
  },
  {
   "cell_type": "markdown",
   "source": [
    "### 2.2 Исследуем признаки с положительной корреляцией"
   ],
   "metadata": {
    "collapsed": false
   }
  },
  {
   "cell_type": "code",
   "execution_count": null,
   "outputs": [],
   "source": [
    "plt.figure(figsize = (10, 12))\n",
    "for i, source in enumerate(['DAYS_BIRTH', 'REGION_RATING_CLIENT_W_CITY', 'REGION_RATING_CLIENT','DAYS_LAST_PHONE_CHANGE', 'DAYS_ID_PUBLISH']):\n",
    "\n",
    "    # создаем график для каждой фичи\n",
    "    plt.subplot(5, 1, i + 1)\n",
    "    # займы которые вернули\n",
    "    sns.kdeplot(df_train.loc[df_train['TARGET'] == 0, source], label = 'target == 0') # не вывел название таргета\n",
    "    # займы которые не вернули\n",
    "    sns.kdeplot(df_train.loc[df_train['TARGET'] == 1, source], label = 'target == 1')\n",
    "    # Названия графиков\n",
    "    plt.title('Distribution of %s by Target Value' % source)\n",
    "    plt.xlabel('%s' % source); plt.ylabel('Density');\n",
    "\n",
    "plt.tight_layout(h_pad = 3)"
   ],
   "metadata": {
    "collapsed": false
   }
  },
  {
   "cell_type": "markdown",
   "source": [
    "По данным графикам видно, что распределение фичи в зависимости от таргета более-менее равномерное"
   ],
   "metadata": {
    "collapsed": false
   }
  },
  {
   "cell_type": "markdown",
   "source": [
    "**Возраст**"
   ],
   "metadata": {
    "collapsed": false
   }
  },
  {
   "cell_type": "code",
   "execution_count": null,
   "outputs": [],
   "source": [
    "df_train['DAYS_BIRTH'].head()"
   ],
   "metadata": {
    "collapsed": false
   }
  },
  {
   "cell_type": "code",
   "execution_count": null,
   "outputs": [],
   "source": [
    "df_train['DAYS_BIRTH'] = abs(df_train['DAYS_BIRTH']/365)"
   ],
   "metadata": {
    "collapsed": false
   }
  },
  {
   "cell_type": "code",
   "execution_count": null,
   "outputs": [],
   "source": [
    "df_train['DAYS_BIRTH'].head()"
   ],
   "metadata": {
    "collapsed": false
   }
  },
  {
   "cell_type": "code",
   "execution_count": null,
   "outputs": [],
   "source": [
    "df_train['DAYS_BIRTH'].corr(df_train['TARGET'])"
   ],
   "metadata": {
    "collapsed": false
   }
  },
  {
   "cell_type": "markdown",
   "source": [
    "Так понимаю это возраст заемщиков, перевели из отрицательных дней в года, перезаписали, корреляция сменила знак, но это не критично, потому как логика осталась - отрицательно коррелирует с невозвратом, т.е. чем выше возраст, тем ниже невозврат"
   ],
   "metadata": {
    "collapsed": false
   }
  },
  {
   "cell_type": "markdown",
   "source": [
    "**рейтинг клиента в городе**"
   ],
   "metadata": {
    "collapsed": false
   }
  },
  {
   "cell_type": "code",
   "execution_count": null,
   "outputs": [],
   "source": [
    "df_train['REGION_RATING_CLIENT_W_CITY'].head()"
   ],
   "metadata": {
    "collapsed": false
   }
  },
  {
   "cell_type": "code",
   "execution_count": null,
   "outputs": [],
   "source": [
    "df_train['REGION_RATING_CLIENT_W_CITY'].value_counts(normalize=True)"
   ],
   "metadata": {
    "collapsed": false
   }
  },
  {
   "cell_type": "markdown",
   "source": [
    "**рейтинг клиента в регионе**\n",
    "тут такая же картина, неудивительно почему они коррелируют"
   ],
   "metadata": {
    "collapsed": false
   }
  },
  {
   "cell_type": "code",
   "execution_count": null,
   "outputs": [],
   "source": [
    "df_train['REGION_RATING_CLIENT'].value_counts(normalize=True)"
   ],
   "metadata": {
    "collapsed": false
   }
  },
  {
   "cell_type": "markdown",
   "source": [
    "**дата последнего смена телефона**"
   ],
   "metadata": {
    "collapsed": false
   }
  },
  {
   "cell_type": "code",
   "execution_count": null,
   "outputs": [],
   "source": [
    "df_train['DAYS_LAST_PHONE_CHANGE'].head()"
   ],
   "metadata": {
    "collapsed": false
   }
  },
  {
   "cell_type": "code",
   "execution_count": null,
   "outputs": [],
   "source": [
    "df_train['DAYS_LAST_PHONE_CHANGE'] = abs(df_train['DAYS_LAST_PHONE_CHANGE']/365)\n",
    "df_train['DAYS_LAST_PHONE_CHANGE'].head()"
   ],
   "metadata": {
    "collapsed": false
   }
  },
  {
   "cell_type": "code",
   "execution_count": null,
   "outputs": [],
   "source": [
    "df_train['DAYS_LAST_PHONE_CHANGE'].sort_values(ascending=False)"
   ],
   "metadata": {
    "collapsed": false
   }
  },
  {
   "cell_type": "markdown",
   "source": [
    "**DAYS_ID_PUBLISH**"
   ],
   "metadata": {
    "collapsed": false
   }
  },
  {
   "cell_type": "code",
   "execution_count": null,
   "outputs": [],
   "source": [
    "df_train['DAYS_ID_PUBLISH'].head()"
   ],
   "metadata": {
    "collapsed": false
   }
  },
  {
   "cell_type": "code",
   "execution_count": null,
   "outputs": [],
   "source": [
    "df_train['DAYS_ID_PUBLISH'] = abs(df_train['DAYS_ID_PUBLISH']/365)\n",
    "df_train['DAYS_ID_PUBLISH'].head()"
   ],
   "metadata": {
    "collapsed": false
   }
  },
  {
   "cell_type": "markdown",
   "source": [
    "не особо заметны выбросы, но график явно не традиционной ориентации"
   ],
   "metadata": {
    "collapsed": false
   }
  },
  {
   "cell_type": "markdown",
   "source": [
    "## 3. Отправляем в модель"
   ],
   "metadata": {
    "collapsed": false
   }
  },
  {
   "cell_type": "code",
   "execution_count": null,
   "outputs": [],
   "source": [
    "# уберем таргет из тренировочной выборки, категориальные фичи он должен съесть\n",
    "target = df_train['TARGET']\n",
    "train = df_train.drop(labels= ['TARGET'], axis = 1)"
   ],
   "metadata": {
    "collapsed": false
   }
  },
  {
   "cell_type": "code",
   "execution_count": null,
   "outputs": [],
   "source": [
    "train.head()"
   ],
   "metadata": {
    "collapsed": false
   }
  },
  {
   "cell_type": "code",
   "execution_count": null,
   "outputs": [],
   "source": [
    "test = df_test\n",
    "test.head()"
   ],
   "metadata": {
    "collapsed": false
   }
  },
  {
   "cell_type": "code",
   "execution_count": null,
   "outputs": [],
   "source": [
    "train, test = train.align(train, join = 'inner', axis = 1)\n",
    "\n",
    "print('Тренировочная выборка', train.shape)\n",
    "print('Тестовая выборка', test.shape)"
   ],
   "metadata": {
    "collapsed": false
   }
  },
  {
   "cell_type": "code",
   "execution_count": null,
   "outputs": [],
   "source": [
    "cat = ['NAME_CONTRACT_TYPE', 'CODE_GENDER', 'FLAG_OWN_CAR', 'FLAG_OWN_REALTY', 'NAME_TYPE_SUITE', 'NAME_INCOME_TYPE', 'NAME_EDUCATION_TYPE', 'NAME_FAMILY_STATUS', 'NAME_HOUSING_TYPE', 'OCCUPATION_TYPE', 'WEEKDAY_APPR_PROCESS_START', 'ORGANIZATION_TYPE', 'FONDKAPREMONT_MODE', 'HOUSETYPE_MODE', 'WALLSMATERIAL_MODE', 'EMERGENCYSTATE_MODE']"
   ],
   "metadata": {
    "collapsed": false
   }
  },
  {
   "cell_type": "code",
   "execution_count": null,
   "outputs": [],
   "source": [
    "for c in cat:\n",
    "    train[c] = train[c].astype('category')"
   ],
   "metadata": {
    "collapsed": false
   }
  },
  {
   "cell_type": "code",
   "execution_count": null,
   "outputs": [],
   "source": [
    "model = LGBMClassifier(objective=\"binary\")\n",
    "model.fit(train, target, categorical_feature=cat)"
   ],
   "metadata": {
    "collapsed": false
   }
  },
  {
   "cell_type": "code",
   "execution_count": null,
   "outputs": [],
   "source": [
    "for c in cat:\n",
    "    test[c] = test[c].astype('category')"
   ],
   "metadata": {
    "collapsed": false
   }
  },
  {
   "cell_type": "code",
   "execution_count": null,
   "outputs": [],
   "source": [
    "predict = model.predict_proba(test)[:, 1]"
   ],
   "metadata": {
    "collapsed": false
   }
  },
  {
   "cell_type": "code",
   "execution_count": null,
   "outputs": [],
   "source": [
    "from sklearn.metrics import accuracy_score, roc_auc_score\n",
    "metrics = roc_auc_score(target, predict)\n",
    "print('LightGBM: ROC AUC=%.3f' % (metrics))\n"
   ],
   "metadata": {
    "collapsed": false
   }
  },
  {
   "cell_type": "code",
   "execution_count": null,
   "outputs": [],
   "source": [
    "print(train.dtypes)"
   ],
   "metadata": {
    "collapsed": false
   }
  },
  {
   "cell_type": "code",
   "execution_count": null,
   "outputs": [],
   "source": [
    "train_2 = train.copy()"
   ],
   "metadata": {
    "collapsed": false
   }
  },
  {
   "cell_type": "code",
   "execution_count": null,
   "outputs": [],
   "source": [
    "\n",
    "#explainer = shap.Explainer(model)\n",
    "#shap_values = explainer(train)\n",
    "\n",
    "#shap.plots.beeswarm(shap_values)\n",
    "shap.initjs()\n",
    "\n",
    "explainer = shap.TreeExplainer(model)\n",
    "shap_values = explainer.shap_values(train)\n",
    "shap.summary_plot(shap_values, train)"
   ],
   "metadata": {
    "collapsed": false
   }
  },
  {
   "cell_type": "markdown",
   "source": [
    "Модель определила признаки, которые дают сильный вклад в предсказание, которые мы не стали анализировать, например AMT_GOOD_Price,"
   ],
   "metadata": {
    "collapsed": false
   }
  },
  {
   "cell_type": "markdown",
   "source": [
    "Добавляем бюро"
   ],
   "metadata": {
    "collapsed": false
   }
  },
  {
   "cell_type": "code",
   "execution_count": null,
   "outputs": [],
   "source": [
    "bureau = pd.read_csv('bureau.csv')\n",
    "bureau"
   ],
   "metadata": {
    "collapsed": false
   }
  },
  {
   "cell_type": "code",
   "execution_count": null,
   "outputs": [],
   "source": [
    "sns.heatmap(bureau.isnull(), cmap = 'summer').set(title='Диаграмма Пропущеные значения')"
   ],
   "metadata": {
    "collapsed": false
   }
  },
  {
   "cell_type": "code",
   "execution_count": null,
   "outputs": [],
   "source": [
    "bureau.head()"
   ],
   "metadata": {
    "collapsed": false
   }
  },
  {
   "cell_type": "markdown",
   "source": [
    "попробуем привести к нужному типу данных"
   ],
   "metadata": {
    "collapsed": false
   }
  },
  {
   "cell_type": "code",
   "execution_count": null,
   "outputs": [],
   "source": [
    "print(bureau.dtypes)"
   ],
   "metadata": {
    "collapsed": false
   }
  },
  {
   "cell_type": "code",
   "execution_count": null,
   "outputs": [],
   "source": [
    "cat_b = ['CREDIT_ACTIVE', 'CREDIT_CURRENCY', 'CREDIT_TYPE']\n",
    "for c in cat_b:\n",
    "    bureau[c] = bureau[c].astype('category')\n",
    "print(bureau.dtypes)"
   ],
   "metadata": {
    "collapsed": false
   }
  },
  {
   "cell_type": "code",
   "execution_count": null,
   "outputs": [],
   "source": [
    "df_gr = bureau.groupby('SK_ID_CURR')['AMT_CREDIT_SUM'].agg(['max','mean','min'])\n",
    "df_gr.head()"
   ],
   "metadata": {
    "collapsed": false
   }
  },
  {
   "cell_type": "code",
   "execution_count": null,
   "outputs": [],
   "source": [
    "train_1 = train.merge(right=df_gr.reset_index(), how='left', on='SK_ID_CURR')\n",
    "test_1 = test.merge(right=df_gr.reset_index(), how='left', on='SK_ID_CURR')"
   ],
   "metadata": {
    "collapsed": false
   }
  },
  {
   "cell_type": "code",
   "execution_count": null,
   "outputs": [],
   "source": [
    "train_1, test_1 = train_1.align(train_1, join='inner', axis=1)"
   ],
   "metadata": {
    "collapsed": false
   }
  },
  {
   "cell_type": "code",
   "execution_count": null,
   "outputs": [],
   "source": [
    "model_1 = LGBMClassifier(objective=\"binary\")\n",
    "model_1.fit(train_1, target, categorical_feature=cat)"
   ],
   "metadata": {
    "collapsed": false
   }
  },
  {
   "cell_type": "code",
   "execution_count": null,
   "outputs": [],
   "source": [
    "test_1.info()"
   ],
   "metadata": {
    "collapsed": false
   }
  },
  {
   "cell_type": "code",
   "execution_count": null,
   "outputs": [],
   "source": [
    "predict_1 = model_1.predict_proba(test_1)[:,1]"
   ],
   "metadata": {
    "collapsed": false
   }
  },
  {
   "cell_type": "code",
   "execution_count": null,
   "outputs": [],
   "source": [
    "predict_1"
   ],
   "metadata": {
    "collapsed": false
   }
  },
  {
   "cell_type": "code",
   "execution_count": null,
   "outputs": [],
   "source": [
    "metrics_1 = roc_auc_score(target, predict_1)"
   ],
   "metadata": {
    "collapsed": false
   }
  },
  {
   "cell_type": "code",
   "execution_count": null,
   "outputs": [],
   "source": [
    "print('LightGBM: ROC AUC=%.3f' % (metrics_1))"
   ],
   "metadata": {
    "collapsed": false
   }
  },
  {
   "cell_type": "markdown",
   "source": [
    "Добавляем другие таблицы и делаем все"
   ],
   "metadata": {
    "collapsed": false
   }
  },
  {
   "cell_type": "code",
   "execution_count": null,
   "outputs": [],
   "source": [
    "bur_balance = pd.read_csv(r'C:\\Users\\user\\Desktop\\HCB\\bureau_balance.csv')\n",
    "credit_card = pd.read_csv(r'C:\\Users\\user\\Desktop\\HCB\\credit_card_balance.csv')\n",
    "instal_pay = pd.read_csv(r'C:\\Users\\user\\Desktop\\HCB\\installments_payments.csv')\n",
    "Posh_card = pd.read_csv(r'C:\\Users\\user\\Desktop\\HCB\\POS_CASH_balance.csv')"
   ],
   "metadata": {
    "collapsed": false
   }
  },
  {
   "cell_type": "markdown",
   "source": [
    "### Задача повысить скор на основе генеранции новых фич\n",
    "ДАНО:\n",
    "* дефолтный сет скор составляет AUC 0,799\n",
    "* сет с бюро составляет AUC 0,802\n",
    "Посмострим дополнительно какие фичи можно нагенерить в обоих случаях для увеличения предсказательной силы"
   ],
   "metadata": {
    "collapsed": false
   }
  },
  {
   "cell_type": "code",
   "execution_count": null,
   "outputs": [],
   "source": [
    "dt_new = df_train.copy()\n",
    "dt_new.head()"
   ],
   "metadata": {
    "collapsed": false
   }
  },
  {
   "cell_type": "markdown",
   "source": [
    "#### Посмотрим описание колонок в целом, нас интересует численные столбцы"
   ],
   "metadata": {
    "collapsed": false
   }
  },
  {
   "cell_type": "code",
   "execution_count": null,
   "outputs": [],
   "source": [
    "description = pd.read_csv(r'C:\\Users\\user\\Desktop\\HCB\\HomeCredit_columns_description.csv', encoding=\"ISO-8859-1\")\n",
    "description"
   ],
   "metadata": {
    "collapsed": false
   }
  },
  {
   "cell_type": "markdown",
   "source": [
    "В базовом датасете:\n",
    "AMT_INCOME_TOTAL - общий доход\n",
    "AMT_CREDIT - сумма кредита\n",
    "AMT_ANNUITY - сумма платежа по кредиту\n",
    "AMT_GOODS_PRICE - цена товара, на который одобрили кредит\n",
    "\n",
    "По остальным колонкам много пропусков, весьма ненадежно из них получать новые данные\n",
    "\n",
    "Попробуем синтезировать числовые фичи и добавить их в основной датасет. Одной из важных характеристик является кредитная ставка, поскольку она закладывается с учетом риск. Ее нет в дата сете и ее не вывести, можно принять условно, что соотношение платежа по кредиту к общей кредитной сумме условно может отражать ставку риска. Также на дефолт может влиять соотношение общего дохода и суммы кредита. Платеж по кредиту, если он автоматический, зачастую зависит от уровня доходов, но ставка для высокорискованных заемщиков как правило выше. Общий стаж работы тоже влияет (допустим банк одобряет клиентам старше 22, но у каждого может быть свой трудовой стаж).\n",
    "\n",
    "Бездумно генерить кучу соотношений мне представляется нецелесообразным, новые фичи должны быть как минимум интерпретированы для заказчика, например общий доход/количество отработанных дней - это не стоимость трудо-дня за всю историю, а просто текущий доход на общий стаж - т.е. кривая метрика\n"
   ],
   "metadata": {
    "collapsed": false
   }
  },
  {
   "cell_type": "markdown",
   "source": [
    "Посмотрим пропуска в колонках"
   ],
   "metadata": {
    "collapsed": false
   }
  },
  {
   "cell_type": "code",
   "execution_count": null,
   "outputs": [],
   "source": [
    "dt_new['AMT_INCOME_TOTAL'].isnull().sum()"
   ],
   "metadata": {
    "collapsed": false
   }
  },
  {
   "cell_type": "code",
   "execution_count": null,
   "outputs": [],
   "source": [
    "dt_new['AMT_CREDIT'].isnull().sum()"
   ],
   "metadata": {
    "collapsed": false
   }
  },
  {
   "cell_type": "code",
   "execution_count": null,
   "outputs": [],
   "source": [
    "dt_new['AMT_ANNUITY'].isnull().sum()"
   ],
   "metadata": {
    "collapsed": false
   }
  },
  {
   "cell_type": "code",
   "execution_count": null,
   "outputs": [],
   "source": [
    "dt_new['AMT_GOODS_PRICE'].isnull().sum()"
   ],
   "metadata": {
    "collapsed": false
   }
  },
  {
   "cell_type": "code",
   "execution_count": null,
   "outputs": [],
   "source": [
    "diff = dt_new['AMT_CREDIT'] - dt_new['AMT_GOODS_PRICE']\n",
    "diff"
   ],
   "metadata": {
    "collapsed": false
   }
  },
  {
   "cell_type": "markdown",
   "source": [
    "Фича цена - является фактически эквивалентом выданного кредита, так как там много пропусков - делать с ней ничего не будем, если посчитать разницу там, где пропуски будут значения - внесет просто шум в данные. Строки по аннуитету, где есть пропуски всего 12 - это не критично."
   ],
   "metadata": {
    "collapsed": false
   }
  },
  {
   "cell_type": "markdown",
   "source": [
    "## генерим новые фичи"
   ],
   "metadata": {
    "collapsed": false
   }
  },
  {
   "cell_type": "markdown",
   "source": [
    "1. Условная процентная ставка (платеж по кредиту/сумму кредита)"
   ],
   "metadata": {
    "collapsed": false
   }
  },
  {
   "cell_type": "code",
   "execution_count": null,
   "outputs": [],
   "source": [
    "dt_new['CREDIT_PERCENT'] = dt_new['AMT_ANNUITY'] / dt_new['AMT_CREDIT']"
   ],
   "metadata": {
    "collapsed": false
   }
  },
  {
   "cell_type": "markdown",
   "source": [
    "2. Соотношение платеж к ЗП"
   ],
   "metadata": {
    "collapsed": false
   }
  },
  {
   "cell_type": "code",
   "execution_count": null,
   "outputs": [],
   "source": [
    "dt_new['ANNUITY_INCOME'] = dt_new['AMT_ANNUITY'] / dt_new['AMT_INCOME_TOTAL']"
   ],
   "metadata": {
    "collapsed": false
   }
  },
  {
   "cell_type": "markdown",
   "source": [
    "3. Соотношение величины кредита к ЗП"
   ],
   "metadata": {
    "collapsed": false
   }
  },
  {
   "cell_type": "code",
   "execution_count": null,
   "outputs": [],
   "source": [
    "dt_new['CREDIT_INCOME'] = dt_new['AMT_CREDIT'] / dt_new['AMT_INCOME_TOTAL']"
   ],
   "metadata": {
    "collapsed": false
   }
  },
  {
   "cell_type": "markdown",
   "source": [
    "4. Количество трудового стажа"
   ],
   "metadata": {
    "collapsed": false
   }
  },
  {
   "cell_type": "code",
   "execution_count": null,
   "outputs": [],
   "source": [
    "dt_new['BIRTH_EMPLOYED'] = dt_new['DAYS_EMPLOYED'] / dt_new['DAYS_BIRTH']"
   ],
   "metadata": {
    "collapsed": false
   }
  },
  {
   "cell_type": "code",
   "execution_count": null,
   "outputs": [],
   "source": [
    "dt_new['CNT_CHILDREN'].value_counts()"
   ],
   "metadata": {
    "collapsed": false
   }
  },
  {
   "cell_type": "markdown",
   "source": [
    "5. Количество ртов в семье тоже может быть важной фичей"
   ],
   "metadata": {
    "collapsed": false
   }
  },
  {
   "cell_type": "code",
   "execution_count": null,
   "outputs": [],
   "source": [
    "dt_new['CHILDREN_CNT_INCOME_PERCENT'] = dt_new['AMT_INCOME_TOTAL']/dt_new['CNT_CHILDREN']"
   ],
   "metadata": {
    "collapsed": false
   }
  },
  {
   "cell_type": "markdown",
   "source": [
    "6. На дефолте самая высокий вклад внесли фичи внешние EXT - просто усредним и посмотрим какой вклад внесет среднее значение"
   ],
   "metadata": {
    "collapsed": false
   }
  },
  {
   "cell_type": "code",
   "execution_count": null,
   "outputs": [],
   "source": [
    "dt_new['NEW_EXT_SOURCES_MEAN'] = dt_new[['EXT_SOURCE_1', 'EXT_SOURCE_2', 'EXT_SOURCE_3']].mean(axis=1)"
   ],
   "metadata": {
    "collapsed": false
   }
  },
  {
   "cell_type": "markdown",
   "source": [
    "Думаю, что 6 новых фичей хотя не ухудшат модель, добавим эти фичи в тест"
   ],
   "metadata": {
    "collapsed": false
   }
  },
  {
   "cell_type": "code",
   "execution_count": null,
   "outputs": [],
   "source": [
    "test_3 = df_test.copy()\n",
    "test_3['CREDIT_PERCENT'] = test_3['AMT_ANNUITY'] / test_3['AMT_CREDIT']\n",
    "test_3['ANNUITY_INCOME'] = test_3['AMT_ANNUITY'] / test_3['AMT_INCOME_TOTAL']\n",
    "test_3['CREDIT_INCOME'] = test_3['AMT_CREDIT'] / test_3['AMT_INCOME_TOTAL']\n",
    "test_3['BIRTH_EMPLOYED'] = test_3['DAYS_EMPLOYED'] / test_3['DAYS_BIRTH']\n",
    "test_3['CHILDREN_CNT_INCOME_PERCENT'] = test_3['AMT_INCOME_TOTAL'] / test_3['CNT_CHILDREN']\n",
    "test_3['NEW_EXT_SOURCES_MEAN'] = test_3[['EXT_SOURCE_1', 'EXT_SOURCE_2', 'EXT_SOURCE_3']].mean(axis=1)"
   ],
   "metadata": {
    "collapsed": false
   }
  },
  {
   "cell_type": "code",
   "execution_count": null,
   "outputs": [],
   "source": [
    "target_3 = dt_new['TARGET']\n",
    "train_3 = dt_new.drop(labels=['TARGET'], axis=1)\n",
    "train_3.head()"
   ],
   "metadata": {
    "collapsed": false
   }
  },
  {
   "cell_type": "code",
   "execution_count": null,
   "outputs": [],
   "source": [
    "test_3.head()"
   ],
   "metadata": {
    "collapsed": false
   }
  },
  {
   "cell_type": "code",
   "execution_count": null,
   "outputs": [],
   "source": [
    "train_n, test_n = train_3.align(train_3, join='inner', axis=1)\n",
    "\n",
    "cat = ['NAME_CONTRACT_TYPE', 'CODE_GENDER', 'FLAG_OWN_CAR', 'FLAG_OWN_REALTY', 'NAME_TYPE_SUITE', 'NAME_INCOME_TYPE',\n",
    "       'NAME_EDUCATION_TYPE', 'NAME_FAMILY_STATUS', 'NAME_HOUSING_TYPE', 'OCCUPATION_TYPE',\n",
    "       'WEEKDAY_APPR_PROCESS_START', 'ORGANIZATION_TYPE', 'FONDKAPREMONT_MODE', 'HOUSETYPE_MODE', 'WALLSMATERIAL_MODE',\n",
    "       'EMERGENCYSTATE_MODE']\n",
    "for c in cat:\n",
    "    train_n[c] = train_n[c].astype('category')\n",
    "model_3 = LGBMClassifier(objective=\"binary\")\n",
    "model_3.fit(train_n, target, categorical_feature=cat)\n",
    "for c in cat:\n",
    "    test_n[c] = test_n[c].astype('category')\n",
    "predict_3 = model_3.predict_proba(test_n)[:, 1]\n",
    "print('Тренировочная выборка', train_n.shape)\n",
    "print('Тестовая выборка', test_n.shape)"
   ],
   "metadata": {
    "collapsed": false
   }
  },
  {
   "cell_type": "code",
   "execution_count": null,
   "outputs": [],
   "source": [
    "metrics_3 = roc_auc_score(target_3, predict_3)\n",
    "print('LightGBM: ROC AUC=%.3f' % (metrics_3))"
   ],
   "metadata": {
    "collapsed": false
   }
  },
  {
   "cell_type": "code",
   "execution_count": null,
   "outputs": [],
   "source": [
    "shap_test = shap.TreeExplainer(model_3).shap_values(train_n)\n",
    "shap.summary_plot(shap_test, test_n,\n",
    "                  max_display=25, auto_size_plot=True)"
   ],
   "metadata": {
    "collapsed": false
   }
  },
  {
   "cell_type": "markdown",
   "source": [
    "Гуд - метрика выросла с 0,799 до 0,806. Добавим бюро дефолтное и с фичами, правда теперь у нас появилась суперфича - среднее значение EXT_sourse"
   ],
   "metadata": {
    "collapsed": false
   }
  },
  {
   "cell_type": "markdown",
   "source": [],
   "metadata": {
    "collapsed": false
   }
  },
  {
   "cell_type": "code",
   "execution_count": null,
   "outputs": [],
   "source": [
    "bureau_3 = pd.read_csv('bureau.csv')\n",
    "cat_b = ['CREDIT_ACTIVE', 'CREDIT_CURRENCY', 'CREDIT_TYPE']\n",
    "for c in cat_b:\n",
    "    bureau_3[c] = bureau_3[c].astype('category')\n",
    "print(bureau_3.dtypes)"
   ],
   "metadata": {
    "collapsed": false
   }
  },
  {
   "cell_type": "code",
   "execution_count": null,
   "outputs": [],
   "source": [
    "df_gr_3 = bureau_3.groupby('SK_ID_CURR')['AMT_CREDIT_SUM'].agg(['max','mean','min'])\n",
    "df_gr_3.head()"
   ],
   "metadata": {
    "collapsed": false
   }
  },
  {
   "cell_type": "code",
   "execution_count": null,
   "outputs": [],
   "source": [
    "train_4 = train_3.merge(right=df_gr_3.reset_index(), how='left', on='SK_ID_CURR')\n",
    "test_4 = test_3.merge(right=df_gr_3.reset_index(), how='left', on='SK_ID_CURR')\n",
    "train_nb, test_nb = train_4.align(train_4, join='inner', axis=1)\n",
    "\n",
    "cat = ['NAME_CONTRACT_TYPE', 'CODE_GENDER', 'FLAG_OWN_CAR', 'FLAG_OWN_REALTY', 'NAME_TYPE_SUITE', 'NAME_INCOME_TYPE',\n",
    "       'NAME_EDUCATION_TYPE', 'NAME_FAMILY_STATUS', 'NAME_HOUSING_TYPE', 'OCCUPATION_TYPE',\n",
    "       'WEEKDAY_APPR_PROCESS_START', 'ORGANIZATION_TYPE', 'FONDKAPREMONT_MODE', 'HOUSETYPE_MODE', 'WALLSMATERIAL_MODE',\n",
    "       'EMERGENCYSTATE_MODE']\n",
    "for c in cat:\n",
    "    train_nb[c] = train_nb[c].astype('category')\n",
    "\n",
    "for c in cat:\n",
    "    test_nb[c] = test_nb[c].astype('category')\n",
    "\n",
    "model_4 = LGBMClassifier(objective=\"binary\")\n",
    "model_4.fit(train_nb, target_3, categorical_feature=cat)\n",
    "predict_4 = model_4.predict_proba(test_nb)[:, 1]\n",
    "metrics_4 = roc_auc_score(target_3, predict_4)\n",
    "print('LightGBM: ROC AUC=%.3f' % (metrics_4))"
   ],
   "metadata": {
    "collapsed": false
   }
  },
  {
   "cell_type": "code",
   "execution_count": null,
   "outputs": [],
   "source": [
    "shap_test_2 = shap.TreeExplainer(model_4).shap_values(train_nb)\n",
    "shap.summary_plot(shap_test_2, test_nb,\n",
    "                  max_display=25, auto_size_plot=True)"
   ],
   "metadata": {
    "collapsed": false
   }
  },
  {
   "cell_type": "markdown",
   "source": [
    "Метрика стала хуже, но незначительно, все также практически сильное влияние одной фичи, попробуем переделать бюро и не брать в расчет метрку макс/мин/сред"
   ],
   "metadata": {
    "collapsed": false
   }
  },
  {
   "cell_type": "markdown",
   "source": [
    "1. Длительность кредита\n",
    "2. Количество дней между подачей заявок на кредит\n",
    "3. Ставка по кредиту согласно бюро\n",
    "4. Просрочка в общей задолжености\n",
    "5. Текущий кредит в общей задолжности\n",
    "6. Доля кредитного лимита по карте к общей задолжности\n",
    "7. Средний размер пролонгации кредита"
   ],
   "metadata": {
    "collapsed": false
   }
  },
  {
   "cell_type": "markdown",
   "source": [
    "Желательно строить только те столбцы, по которым пропуском мало - см. график в строке 47"
   ],
   "metadata": {
    "collapsed": false
   }
  },
  {
   "cell_type": "code",
   "execution_count": null,
   "outputs": [],
   "source": [
    "bureau_4 = bureau_3.copy()\n",
    "bureau_4.head()"
   ],
   "metadata": {
    "collapsed": false
   }
  },
  {
   "cell_type": "code",
   "execution_count": null,
   "outputs": [],
   "source": [
    "\n",
    "#1\n",
    "bureau_4['CREDIT_DURATION'] = -bureau_4['DAYS_CREDIT'] + bureau_4['DAYS_CREDIT_ENDDATE']\n",
    "#2\n",
    "bureau_4['ENDDATE_DIFF'] = bureau_4['DAYS_CREDIT_ENDDATE'] - bureau_4['DAYS_ENDDATE_FACT']\n",
    "#3\n",
    "bureau_4['DEBT_rate'] = bureau_4['AMT_ANNUITY'] / bureau_4['AMT_CREDIT_SUM_DEBT']\n",
    "#4\n",
    "bureau_4['DEBT_over'] = bureau_4['AMT_CREDIT_SUM_OVERDUE'] / bureau_4['AMT_CREDIT_SUM_DEBT']\n",
    "#5\n",
    "bureau_4['current_rate_debt'] = bureau_4['AMT_CREDIT_SUM'] / bureau_4['AMT_CREDIT_SUM_DEBT']\n",
    "#6\n",
    "bureau_4['DEBT_PERCENTAGE'] = bureau_4['AMT_CREDIT_SUM_LIMIT'] / bureau_4['AMT_CREDIT_SUM_DEBT']\n",
    "#7\n",
    "bureau_4['CNT_sum_CREDIT_PROLONG'] = bureau_4['AMT_CREDIT_SUM_DEBT'] / bureau_4['CNT_CREDIT_PROLONG']\n",
    "\n",
    "bureau_4"
   ],
   "metadata": {
    "collapsed": false
   }
  },
  {
   "cell_type": "code",
   "execution_count": 102,
   "outputs": [
    {
     "data": {
      "text/plain": "                 max           mean      min\nSK_ID_CURR                                  \n100001      378000.0  207623.571429  85500.0\n100002      450000.0  108131.945625      0.0\n100003      810000.0  254350.125000  22248.0\n100004       94537.8   94518.900000  94500.0\n100005      568800.0  219042.000000  29826.0",
      "text/html": "<div>\n<style scoped>\n    .dataframe tbody tr th:only-of-type {\n        vertical-align: middle;\n    }\n\n    .dataframe tbody tr th {\n        vertical-align: top;\n    }\n\n    .dataframe thead th {\n        text-align: right;\n    }\n</style>\n<table border=\"1\" class=\"dataframe\">\n  <thead>\n    <tr style=\"text-align: right;\">\n      <th></th>\n      <th>max</th>\n      <th>mean</th>\n      <th>min</th>\n    </tr>\n    <tr>\n      <th>SK_ID_CURR</th>\n      <th></th>\n      <th></th>\n      <th></th>\n    </tr>\n  </thead>\n  <tbody>\n    <tr>\n      <th>100001</th>\n      <td>378000.0</td>\n      <td>207623.571429</td>\n      <td>85500.0</td>\n    </tr>\n    <tr>\n      <th>100002</th>\n      <td>450000.0</td>\n      <td>108131.945625</td>\n      <td>0.0</td>\n    </tr>\n    <tr>\n      <th>100003</th>\n      <td>810000.0</td>\n      <td>254350.125000</td>\n      <td>22248.0</td>\n    </tr>\n    <tr>\n      <th>100004</th>\n      <td>94537.8</td>\n      <td>94518.900000</td>\n      <td>94500.0</td>\n    </tr>\n    <tr>\n      <th>100005</th>\n      <td>568800.0</td>\n      <td>219042.000000</td>\n      <td>29826.0</td>\n    </tr>\n  </tbody>\n</table>\n</div>"
     },
     "execution_count": 102,
     "metadata": {},
     "output_type": "execute_result"
    }
   ],
   "source": [
    "df_gr_4 = bureau_4.groupby('SK_ID_CURR')['AMT_CREDIT_SUM'].agg(['max', 'mean', 'min'])\n",
    "df_gr_4.head()"
   ],
   "metadata": {
    "collapsed": false
   }
  },
  {
   "cell_type": "code",
   "execution_count": 103,
   "outputs": [],
   "source": [
    "train_5 = train_3.copy()\n",
    "test_5 = test_3.copy()\n",
    "train_5.drop(columns='NEW_EXT_SOURCES_MEAN', axis=1, inplace=True)\n",
    "test_5.drop(columns='NEW_EXT_SOURCES_MEAN', axis=1, inplace=True)"
   ],
   "metadata": {
    "collapsed": false
   }
  },
  {
   "cell_type": "code",
   "execution_count": 104,
   "outputs": [
    {
     "name": "stderr",
     "output_type": "stream",
     "text": [
      "Using categorical_feature in Dataset.\n"
     ]
    },
    {
     "name": "stdout",
     "output_type": "stream",
     "text": [
      "LightGBM: ROC AUC=0.807\n"
     ]
    },
    {
     "name": "stderr",
     "output_type": "stream",
     "text": [
      "LightGBM binary classifier with TreeExplainer shap values output has changed to a list of ndarray\n",
      "auto_size_plot=False is deprecated and is now ignored! Use plot_size=None instead.\n"
     ]
    },
    {
     "data": {
      "text/plain": "<Figure size 576x828 with 1 Axes>",
      "image/png": "[encoded data removed]"
     },
     "metadata": {
      "needs_background": "light"
     },
     "output_type": "display_data"
    }
   ],
   "source": [
    "\n",
    "train_6 = train_5.merge(right=df_gr_4.reset_index(), how='left', on='SK_ID_CURR')\n",
    "test_6 = test_5.merge(right=df_gr_4.reset_index(), how='left', on='SK_ID_CURR')\n",
    "train_b, test_b = train_6.align(train_6, join='inner', axis=1)\n",
    "\n",
    "cat = ['NAME_CONTRACT_TYPE', 'CODE_GENDER', 'FLAG_OWN_CAR', 'FLAG_OWN_REALTY', 'NAME_TYPE_SUITE', 'NAME_INCOME_TYPE',\n",
    "       'NAME_EDUCATION_TYPE', 'NAME_FAMILY_STATUS', 'NAME_HOUSING_TYPE', 'OCCUPATION_TYPE',\n",
    "       'WEEKDAY_APPR_PROCESS_START', 'ORGANIZATION_TYPE', 'FONDKAPREMONT_MODE', 'HOUSETYPE_MODE', 'WALLSMATERIAL_MODE',\n",
    "       'EMERGENCYSTATE_MODE']\n",
    "for c in cat:\n",
    "    train_b[c] = train_b[c].astype('category')\n",
    "\n",
    "for c in cat:\n",
    "    test_b[c] = test_b[c].astype('category')\n",
    "\n",
    "model_5 = LGBMClassifier(objective=\"binary\")\n",
    "model_5.fit(train_b, target_3, categorical_feature=cat)\n",
    "predict_5 = model_5.predict_proba(test_b)[:, 1]\n",
    "metrics_5 = roc_auc_score(target_3, predict_5)\n",
    "print('LightGBM: ROC AUC=%.3f' % (metrics_5))\n",
    "shap_test_3 = shap.TreeExplainer(model_5).shap_values(train_b)\n",
    "shap.summary_plot(shap_test_3, test_b,\n",
    "                  max_display=25, auto_size_plot=True)\n"
   ],
   "metadata": {
    "collapsed": false
   }
  },
  {
   "cell_type": "code",
   "execution_count": null,
   "outputs": [],
   "source": [],
   "metadata": {
    "collapsed": false
   }
  }
 ],
 "metadata": {
  "kernelspec": {
   "display_name": "Python 3",
   "language": "python",
   "name": "python3"
  },
  "language_info": {
   "codemirror_mode": {
    "name": "ipython",
    "version": 2
   },
   "file_extension": ".py",
   "mimetype": "text/x-python",
   "name": "python",
   "nbconvert_exporter": "python",
   "pygments_lexer": "ipython2",
   "version": "2.7.6"
  }
 },
 "nbformat": 4,
 "nbformat_minor": 0
}
